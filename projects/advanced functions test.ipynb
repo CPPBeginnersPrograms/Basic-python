{
 "cells": [
  {
   "cell_type": "code",
   "execution_count": 68,
   "metadata": {},
   "outputs": [],
   "source": [
    "#Problem 1\n",
    "#Use map to create a function which finds the length of each word in the \n",
    "#phrase (broken by spaces) and return the values in a list.\n",
    "#The function will have an input of a string, and output a list of integers.\n",
    "\n",
    "\n",
    "\n",
    "\n",
    "def word_lengths(phrase):\n",
    "    \n",
    "    for words in phrase.split():\n",
    "        \n",
    "        print((len(words)))\n",
    "        \n",
    "    \n",
    "    \n",
    "    "
   ]
  },
  {
   "cell_type": "code",
   "execution_count": 201,
   "metadata": {},
   "outputs": [
    {
     "name": "stdout",
     "output_type": "stream",
     "text": [
      "4\n",
      "2\n",
      "1\n",
      "6\n",
      "2\n"
     ]
    }
   ],
   "source": [
    "word_lengths('this is a string hi')"
   ]
  },
  {
   "cell_type": "code",
   "execution_count": 70,
   "metadata": {},
   "outputs": [],
   "source": [
    "def word_lengths1(phrase):\n",
    "    \n",
    "    return list(map(len,phrase.split()))"
   ]
  },
  {
   "cell_type": "code",
   "execution_count": 71,
   "metadata": {},
   "outputs": [
    {
     "data": {
      "text/plain": [
       "[4, 2, 1, 6]"
      ]
     },
     "execution_count": 71,
     "metadata": {},
     "output_type": "execute_result"
    }
   ],
   "source": [
    "word_lengths1(\"this is a string \")"
   ]
  },
  {
   "cell_type": "code",
   "execution_count": 88,
   "metadata": {},
   "outputs": [],
   "source": [
    "#Problem 2\n",
    "#Use reduce to take a list of digits and return the \n",
    "#number that they correspond to. Do not convert the integers to strings!\n",
    "from functools import reduce\n",
    "def digits_to_num(digits):\n",
    "    \n",
    "    \n",
    "    return reduce(lambda x,y:x*10+y,digits)\n"
   ]
  },
  {
   "cell_type": "code",
   "execution_count": 89,
   "metadata": {},
   "outputs": [
    {
     "data": {
      "text/plain": [
       "1245"
      ]
     },
     "execution_count": 89,
     "metadata": {},
     "output_type": "execute_result"
    }
   ],
   "source": [
    "digits_to_num([1,2,4,5])"
   ]
  },
  {
   "cell_type": "code",
   "execution_count": 106,
   "metadata": {},
   "outputs": [],
   "source": [
    "#Problem 3\n",
    "#Use filter to return the words from a list of words which start with a target letter.\n",
    "\n",
    "def filter_words(word_list, letter):\n",
    "    \n",
    "    return list(filter(lambda x: x[0]==letter, word_list))\n",
    "    \n",
    "    \n"
   ]
  },
  {
   "cell_type": "code",
   "execution_count": 108,
   "metadata": {},
   "outputs": [
    {
     "data": {
      "text/plain": [
       "['ham', 'hitler', 'heroic']"
      ]
     },
     "execution_count": 108,
     "metadata": {},
     "output_type": "execute_result"
    }
   ],
   "source": [
    "l = ['ham','hitler','nest','gopal','heroic']\n",
    "filter_words(l,'h')"
   ]
  },
  {
   "cell_type": "code",
   "execution_count": 116,
   "metadata": {},
   "outputs": [],
   "source": [
    "#Problem 4\n",
    "#Use zip and list comprehension to return a list of the same length\n",
    "#where each value is the two strings from L1 and L2 concatenated together \n",
    "#with connector between them. Look at the example output below:\n",
    "\n",
    "\n",
    "def concatenate(L1, L2, connector):\n",
    "    \n",
    "    l = [i+connector+j for (i,j) in zip(L1,L2)]\n",
    "    \n",
    "    return l"
   ]
  },
  {
   "cell_type": "code",
   "execution_count": 118,
   "metadata": {},
   "outputs": [
    {
     "data": {
      "text/plain": [
       "['A-B', '1-2']"
      ]
     },
     "execution_count": 118,
     "metadata": {},
     "output_type": "execute_result"
    }
   ],
   "source": [
    "concatenate(['A','1'],['B','2'],'-')"
   ]
  },
  {
   "cell_type": "code",
   "execution_count": 193,
   "metadata": {},
   "outputs": [],
   "source": [
    "#Problem 5\n",
    "#Use enumerate and other skills to return a dictionary which has the\n",
    "#values of the list as keys and the index as the value. You may assume that a value will \n",
    "#only appear once in the given list.\n",
    "\n",
    "\n",
    "def d_list(L):\n",
    "    \n",
    "     for i,j in enumerate(L):\n",
    "            \n",
    "            d = { j : i}\n",
    "            \n",
    "            print(d)\n",
    "    "
   ]
  },
  {
   "cell_type": "code",
   "execution_count": 199,
   "metadata": {},
   "outputs": [
    {
     "name": "stdout",
     "output_type": "stream",
     "text": [
      "{'a': 0}\n",
      "{'b': 1}\n",
      "{'b': 2}\n"
     ]
    }
   ],
   "source": [
    "d_list(['a','b','b'])"
   ]
  },
  {
   "cell_type": "code",
   "execution_count": 196,
   "metadata": {},
   "outputs": [],
   "source": [
    "def d_list1(L):\n",
    "    \n",
    "    return {key:value for value,key in enumerate(L)}"
   ]
  },
  {
   "cell_type": "code",
   "execution_count": 198,
   "metadata": {},
   "outputs": [
    {
     "data": {
      "text/plain": [
       "{'a': 0, 'b': 1, 'c': 2}"
      ]
     },
     "execution_count": 198,
     "metadata": {},
     "output_type": "execute_result"
    }
   ],
   "source": [
    "d_list1(['a','b','c'])"
   ]
  },
  {
   "cell_type": "code",
   "execution_count": 213,
   "metadata": {
    "collapsed": true
   },
   "outputs": [],
   "source": [
    "#Problem 6\n",
    "#Use enumerate and other skills from above to return the count of\n",
    "#the number of items in the list whose value equals its index.\n",
    "\n",
    "def count_match_index(L):\n",
    "    \n",
    "    return len([num for i,num in enumerate(L) if num == i])\n",
    "    pass"
   ]
  },
  {
   "cell_type": "code",
   "execution_count": 215,
   "metadata": {},
   "outputs": [
    {
     "data": {
      "text/plain": [
       "2"
      ]
     },
     "execution_count": 215,
     "metadata": {},
     "output_type": "execute_result"
    }
   ],
   "source": [
    "count_match_index([0,2,3,4,5,6,7,8,8,8])"
   ]
  },
  {
   "cell_type": "code",
   "execution_count": null,
   "metadata": {
    "collapsed": true
   },
   "outputs": [],
   "source": []
  }
 ],
 "metadata": {
  "kernelspec": {
   "display_name": "Python 3",
   "language": "python",
   "name": "python3"
  },
  "language_info": {
   "codemirror_mode": {
    "name": "ipython",
    "version": 3
   },
   "file_extension": ".py",
   "mimetype": "text/x-python",
   "name": "python",
   "nbconvert_exporter": "python",
   "pygments_lexer": "ipython3",
   "version": "3.6.1"
  }
 },
 "nbformat": 4,
 "nbformat_minor": 2
}

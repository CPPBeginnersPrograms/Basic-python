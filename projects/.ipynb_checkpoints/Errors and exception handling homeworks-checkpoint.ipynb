{
 "cells": [
  {
   "cell_type": "code",
   "execution_count": 1,
   "metadata": {},
   "outputs": [
    {
     "name": "stdout",
     "output_type": "stream",
     "text": [
      "there is an error\n",
      "all done\n"
     ]
    }
   ],
   "source": [
    "#Problem 2\n",
    "#Handle the exception thrown by the code below by using try and except blocks.\n",
    "#Then use a finally block to print 'All Done.'\n",
    "x = 5\n",
    "y = 0\n",
    "try:\n",
    "    \n",
    "    z = x/y\n",
    "except:\n",
    "    \n",
    "    print('there is an error')\n",
    "\n",
    "finally:\n",
    "    \n",
    "    print('all done')"
   ]
  },
  {
   "cell_type": "code",
   "execution_count": 3,
   "metadata": {
    "collapsed": true
   },
   "outputs": [],
   "source": [
    "#Problem 3\n",
    "#Write a function that asks for an integer and prints the square of it.\n",
    "#Use a while loop with a try,except, else block to account for incorrect inputs.\n",
    "\n",
    "def ask():\n",
    "    \n",
    "    while True:\n",
    "        \n",
    "        try:\n",
    "            \n",
    "            sq = int(input('please enter the integer to find out the square : '))\n",
    "            s = sq\n",
    "            num = s**2\n",
    "        \n",
    "        except:\n",
    "            \n",
    "            print('please enter only in numbers not letters : ')\n",
    "            continue\n",
    "            \n",
    "        else:\n",
    "        \n",
    "            print(\"the square of the number %s is : \" %(s), num)\n",
    "            break\n",
    "        \n",
    "        finally:\n",
    "            print('all done')\n",
    "        "
   ]
  },
  {
   "cell_type": "code",
   "execution_count": 4,
   "metadata": {},
   "outputs": [
    {
     "name": "stdout",
     "output_type": "stream",
     "text": [
      "please enter the integer to find out the square : 5\n",
      "the square of the number 5 is :  25\n",
      "all done\n"
     ]
    }
   ],
   "source": [
    "ask()"
   ]
  },
  {
   "cell_type": "code",
   "execution_count": 5,
   "metadata": {},
   "outputs": [
    {
     "name": "stdout",
     "output_type": "stream",
     "text": [
      "please enter the integer to find out the square : three\n",
      "please enter only in numbers not letters : \n",
      "all done\n",
      "please enter the integer to find out the square : re\n",
      "please enter only in numbers not letters : \n",
      "all done\n",
      "please enter the integer to find out the square : ere\n",
      "please enter only in numbers not letters : \n",
      "all done\n",
      "please enter the integer to find out the square : ere\n",
      "please enter only in numbers not letters : \n",
      "all done\n",
      "please enter the integer to find out the square : ere\n",
      "please enter only in numbers not letters : \n",
      "all done\n",
      "please enter the integer to find out the square : ere\n",
      "please enter only in numbers not letters : \n",
      "all done\n",
      "please enter the integer to find out the square : 5\n",
      "the square of the number 5 is :  25\n",
      "all done\n"
     ]
    }
   ],
   "source": [
    "ask()"
   ]
  },
  {
   "cell_type": "code",
   "execution_count": null,
   "metadata": {},
   "outputs": [],
   "source": []
  },
  {
   "cell_type": "code",
   "execution_count": null,
   "metadata": {
    "collapsed": true
   },
   "outputs": [],
   "source": []
  },
  {
   "cell_type": "code",
   "execution_count": null,
   "metadata": {
    "collapsed": true
   },
   "outputs": [],
   "source": []
  }
 ],
 "metadata": {
  "kernelspec": {
   "display_name": "Python 3",
   "language": "python",
   "name": "python3"
  },
  "language_info": {
   "codemirror_mode": {
    "name": "ipython",
    "version": 3
   },
   "file_extension": ".py",
   "mimetype": "text/x-python",
   "name": "python",
   "nbconvert_exporter": "python",
   "pygments_lexer": "ipython3",
   "version": "3.6.1"
  }
 },
 "nbformat": 4,
 "nbformat_minor": 2
}

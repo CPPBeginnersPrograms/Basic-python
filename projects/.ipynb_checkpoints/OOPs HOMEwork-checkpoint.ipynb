{
 "cells": [
  {
   "cell_type": "code",
   "execution_count": 186,
   "metadata": {},
   "outputs": [],
   "source": [
    "# Problem 1\n",
    "#Fill in the Line class methods to accept coordinate as a pair of tuples and return the slope and distance of the line.\n",
    "import math\n",
    "class Line(object):\n",
    "    \n",
    "    def __init__(self,coor1,coor2):\n",
    "                 self.coor1 = coor1\n",
    "                 self.coor2 = coor2\n",
    "                 \n",
    "                 \n",
    "                \n",
    "    def distance(self):\n",
    "        # distance of a line sqrt((x2 -x1)^2 + (y2-y1)^2)\n",
    "        d1 = (self.coor2[0]-self.coor1[0])**2\n",
    "        d2 = (self.coor2[1]-self.coor1[1])**2\n",
    "        \n",
    "        print (\"distance is :\",(d1+d2),', sqrt of ',(d1+d2),'is = ', math.sqrt(d1 + d2))\n",
    "        \n",
    "        pass\n",
    "    \n",
    "    def slope(self):\n",
    "        # slope of a line (y2 - y1)/(x2 - x1)\n",
    "        d1 = (self.coor2[1] - self.coor1[1])\n",
    "        d2 = (self.coor2[0] - self.coor1[0])\n",
    "        print('the slope of line is :',float (d1/d2))\n",
    "        pass"
   ]
  },
  {
   "cell_type": "code",
   "execution_count": 187,
   "metadata": {},
   "outputs": [],
   "source": [
    "s =Line ((-2,-3),(-4,4))"
   ]
  },
  {
   "cell_type": "code",
   "execution_count": 150,
   "metadata": {},
   "outputs": [
    {
     "data": {
      "text/plain": [
       "(-4, 4)"
      ]
     },
     "execution_count": 150,
     "metadata": {},
     "output_type": "execute_result"
    }
   ],
   "source": [
    "s.coor2"
   ]
  },
  {
   "cell_type": "code",
   "execution_count": 189,
   "metadata": {},
   "outputs": [
    {
     "name": "stdout",
     "output_type": "stream",
     "text": [
      "distance is : 53 , sqrt of  53 is =  7.280109889280518\n"
     ]
    }
   ],
   "source": [
    "s.distance()"
   ]
  },
  {
   "cell_type": "code",
   "execution_count": 188,
   "metadata": {},
   "outputs": [
    {
     "name": "stdout",
     "output_type": "stream",
     "text": [
      "the slope of line is : -3.5\n"
     ]
    }
   ],
   "source": [
    "s.slope()"
   ]
  },
  {
   "cell_type": "code",
   "execution_count": 154,
   "metadata": {},
   "outputs": [],
   "source": [
    "l1 = Line((1,2),(2,3))"
   ]
  },
  {
   "cell_type": "code",
   "execution_count": 155,
   "metadata": {},
   "outputs": [
    {
     "name": "stdout",
     "output_type": "stream",
     "text": [
      "distance is : 2 , sqrt of  2 is =  1.4142135623730951\n"
     ]
    }
   ],
   "source": [
    "l1.distance()"
   ]
  },
  {
   "cell_type": "code",
   "execution_count": 157,
   "metadata": {},
   "outputs": [
    {
     "name": "stdout",
     "output_type": "stream",
     "text": [
      "the slope of line is : 1.0\n"
     ]
    }
   ],
   "source": [
    "l1.slope()"
   ]
  },
  {
   "cell_type": "code",
   "execution_count": 180,
   "metadata": {},
   "outputs": [],
   "source": [
    "#Problem 2\n",
    "#Fill in the class\n",
    "import math\n",
    "class Cylinder(object):\n",
    "    \n",
    "    #class object attributes\n",
    "    pi =3.1416\n",
    "    \n",
    "    def __init__(self,height=1,radius=1):\n",
    "        \n",
    "        self.height = height\n",
    "        self.radius = radius\n",
    "        \n",
    "        \n",
    "    def volume(self):\n",
    "        # volume of a cylinder v = pir^2h\n",
    "        \n",
    "        v = ((self.radius)**2) * (self.height)\n",
    "        v1 = Cylinder.pi * v\n",
    "        \n",
    "        print('the volume of a cylinder is :', v1 )\n",
    "        \n",
    "    def surface_area(self):\n",
    "        \n",
    "        # surface area of a cylinder is 2pirh + 2pir^2\n",
    "        \n",
    "        a = (2 * Cylinder.pi * self.radius * self.height) + (2 * Cylinder.pi * (self.radius)**2)\n",
    "        \n",
    "        print('the surface area of the cylinder is :', a)"
   ]
  },
  {
   "cell_type": "code",
   "execution_count": 183,
   "metadata": {
    "collapsed": true
   },
   "outputs": [],
   "source": [
    "c = Cylinder(2,3)"
   ]
  },
  {
   "cell_type": "code",
   "execution_count": 182,
   "metadata": {},
   "outputs": [
    {
     "data": {
      "text/plain": [
       "2"
      ]
     },
     "execution_count": 182,
     "metadata": {},
     "output_type": "execute_result"
    }
   ],
   "source": [
    "c.height"
   ]
  },
  {
   "cell_type": "code",
   "execution_count": 170,
   "metadata": {},
   "outputs": [
    {
     "data": {
      "text/plain": [
       "3.1416"
      ]
     },
     "execution_count": 170,
     "metadata": {},
     "output_type": "execute_result"
    }
   ],
   "source": [
    "c.pi"
   ]
  },
  {
   "cell_type": "code",
   "execution_count": 171,
   "metadata": {},
   "outputs": [
    {
     "data": {
      "text/plain": [
       "2"
      ]
     },
     "execution_count": 171,
     "metadata": {},
     "output_type": "execute_result"
    }
   ],
   "source": [
    "c.radius"
   ]
  },
  {
   "cell_type": "code",
   "execution_count": 184,
   "metadata": {},
   "outputs": [
    {
     "name": "stdout",
     "output_type": "stream",
     "text": [
      "the volume of a cylinder is : 56.5488\n"
     ]
    }
   ],
   "source": [
    "c.volume()"
   ]
  },
  {
   "cell_type": "code",
   "execution_count": 185,
   "metadata": {},
   "outputs": [
    {
     "name": "stdout",
     "output_type": "stream",
     "text": [
      "the surface area of the cylinder is : 94.24799999999999\n"
     ]
    }
   ],
   "source": [
    "c.surface_area()"
   ]
  },
  {
   "cell_type": "code",
   "execution_count": null,
   "metadata": {},
   "outputs": [],
   "source": []
  },
  {
   "cell_type": "code",
   "execution_count": null,
   "metadata": {
    "collapsed": true
   },
   "outputs": [],
   "source": []
  }
 ],
 "metadata": {
  "kernelspec": {
   "display_name": "Python 3",
   "language": "python",
   "name": "python3"
  },
  "language_info": {
   "codemirror_mode": {
    "name": "ipython",
    "version": 3
   },
   "file_extension": ".py",
   "mimetype": "text/x-python",
   "name": "python",
   "nbconvert_exporter": "python",
   "pygments_lexer": "ipython3",
   "version": "3.6.1"
  }
 },
 "nbformat": 4,
 "nbformat_minor": 2
}

{
 "cells": [
  {
   "cell_type": "code",
   "execution_count": 42,
   "metadata": {
    "collapsed": true
   },
   "outputs": [],
   "source": [
    "#1 Write a function that computes the volume of a sphere given its radius.\n",
    "import math\n",
    "def vol(rad):\n",
    "    return ((4/3)*(3.1416)*(rad**3))\n",
    "    vol()\n",
    "    pass\n"
   ]
  },
  {
   "cell_type": "code",
   "execution_count": 44,
   "metadata": {},
   "outputs": [
    {
     "data": {
      "text/plain": [
       "33.5104"
      ]
     },
     "execution_count": 44,
     "metadata": {},
     "output_type": "execute_result"
    }
   ],
   "source": [
    "vol(2)"
   ]
  },
  {
   "cell_type": "code",
   "execution_count": 9,
   "metadata": {
    "collapsed": true
   },
   "outputs": [],
   "source": [
    "#2 Write a function that checks whether a number is in a given range (Inclusive of high and low)\n",
    "\n",
    "def ran_check(num,low,high):\n",
    "    if num in range(low,high+1):\n",
    "        print('%s is in range' %str(num))\n",
    "    else:\n",
    "        print('it is out of range')\n",
    "        \n",
    "pass"
   ]
  },
  {
   "cell_type": "code",
   "execution_count": 10,
   "metadata": {},
   "outputs": [
    {
     "name": "stdout",
     "output_type": "stream",
     "text": [
      "5 is in range\n"
     ]
    }
   ],
   "source": [
    "ran_check(5,2,10)\n"
   ]
  },
  {
   "cell_type": "code",
   "execution_count": 100,
   "metadata": {
    "collapsed": true
   },
   "outputs": [],
   "source": [
    "#If you only wanted to return a boolean:\n",
    "\n",
    "def ran_bool(num,low,high):\n",
    "    return num in range(low,high+1)\n",
    "    \n",
    "    pass"
   ]
  },
  {
   "cell_type": "code",
   "execution_count": 102,
   "metadata": {},
   "outputs": [
    {
     "data": {
      "text/plain": [
       "True"
      ]
     },
     "execution_count": 102,
     "metadata": {},
     "output_type": "execute_result"
    }
   ],
   "source": [
    "ran_bool(4,3,5)"
   ]
  },
  {
   "cell_type": "code",
   "execution_count": 162,
   "metadata": {
    "collapsed": true
   },
   "outputs": [],
   "source": [
    "#Write a Python function that accepts a string and calculate the number of upper case letters and lower case letters.\n",
    "\n",
    "def up_low(s):\n",
    "    dic = {'upper': 0, 'lower': 0}\n",
    "    for letter in s:\n",
    "        if letter.isupper():\n",
    "            dic['upper']+=1\n",
    "        elif letter.islower():\n",
    "            dic['lower']+=1\n",
    "        else:\n",
    "            pass\n",
    "        \n",
    "    print('the original string is: ', s)\n",
    "    print('the no of upper case letters:', dic['upper'])\n",
    "    print('the no of lower case letters:', dic['lower'])"
   ]
  },
  {
   "cell_type": "code",
   "execution_count": 164,
   "metadata": {},
   "outputs": [
    {
     "name": "stdout",
     "output_type": "stream",
     "text": [
      "the original string is:  THERE IS a string\n",
      "the no of upper case letters: 7\n",
      "the no of lower case letters: 7\n"
     ]
    }
   ],
   "source": [
    "s = 'THERE IS a string'\n",
    "up_low(s)"
   ]
  },
  {
   "cell_type": "code",
   "execution_count": 139,
   "metadata": {},
   "outputs": [],
   "source": [
    "#Write a Python function that takes a list and returns a new list with unique elements of the first list.\n",
    "#method one\n",
    "def unique_list(l):\n",
    "    ls = []\n",
    "    ls += set(l)\n",
    "    return ls\n",
    "    pass"
   ]
  },
  {
   "cell_type": "code",
   "execution_count": 144,
   "metadata": {},
   "outputs": [
    {
     "data": {
      "text/plain": [
       "[1, 2, 3, 4, 5, 6, 7, 8, 9]"
      ]
     },
     "execution_count": 144,
     "metadata": {},
     "output_type": "execute_result"
    }
   ],
   "source": [
    "unique_list([1,2,1,1,2,2,3,4,5,6,6,6,7,8,9,9,9,9])"
   ]
  },
  {
   "cell_type": "code",
   "execution_count": 141,
   "metadata": {
    "collapsed": true
   },
   "outputs": [],
   "source": [
    "#method 2\n",
    "def unique_list1(l):\n",
    "    ls = []\n",
    "    for x in l:\n",
    "        if x not in ls:\n",
    "            ls.append(x)\n",
    "    return ls\n"
   ]
  },
  {
   "cell_type": "code",
   "execution_count": 173,
   "metadata": {},
   "outputs": [],
   "source": [
    "# Write a Python function to multiply all the numbers in a list.\n",
    "import math\n",
    "def multiply(numbers):\n",
    "    mul = 1\n",
    "    for x in numbers:\n",
    "        mul *= x\n",
    "    return mul\n",
    "pass\n",
    "\n",
    "# you can also use \n",
    "# mul = number[0] here you are indexing the 0th value if the 0th value is 1 in the funct argument then the ans will\n",
    "# be correct if it start with anyother number other than 1 it will be incorrect ans."
   ]
  },
  {
   "cell_type": "code",
   "execution_count": 174,
   "metadata": {},
   "outputs": [
    {
     "data": {
      "text/plain": [
       "12"
      ]
     },
     "execution_count": 174,
     "metadata": {},
     "output_type": "execute_result"
    }
   ],
   "source": [
    "multiply([2,2,3])"
   ]
  },
  {
   "cell_type": "code",
   "execution_count": 135,
   "metadata": {},
   "outputs": [],
   "source": [
    "# Write a Python function that checks whether a passed string is palindrome or not.\n",
    "\n",
    "def palindrome(s):\n",
    "    s=s.replace(' ','')\n",
    "    if s[::-1] == s[:]:\n",
    "        print(\"the given string\",s,  \"is a palindrome\" )\n",
    "    else:\n",
    "        print(\"the given string\",s, \"is not a palindrome\")\n",
    "    pass"
   ]
  },
  {
   "cell_type": "code",
   "execution_count": 136,
   "metadata": {},
   "outputs": [
    {
     "name": "stdout",
     "output_type": "stream",
     "text": [
      "the given string nursesrun is a palindrome\n"
     ]
    }
   ],
   "source": [
    "palindrome('nurses run')"
   ]
  },
  {
   "cell_type": "code",
   "execution_count": 153,
   "metadata": {},
   "outputs": [],
   "source": [
    "# Write a Python function to check whether a string is pangram or not.\n",
    "\n",
    "import string\n",
    "\n",
    "def ispangram(str1, alphabet=string.ascii_lowercase):\n",
    "    alphaset = set(alphabet)\n",
    "    return alphaset <= set(str1.lower())"
   ]
  },
  {
   "cell_type": "code",
   "execution_count": 155,
   "metadata": {},
   "outputs": [
    {
     "data": {
      "text/plain": [
       "True"
      ]
     },
     "execution_count": 155,
     "metadata": {},
     "output_type": "execute_result"
    }
   ],
   "source": [
    "ispangram(\"The quick brown fox jumps over the lazy dog\")"
   ]
  },
  {
   "cell_type": "code",
   "execution_count": null,
   "metadata": {},
   "outputs": [],
   "source": []
  },
  {
   "cell_type": "code",
   "execution_count": null,
   "metadata": {
    "collapsed": true
   },
   "outputs": [],
   "source": []
  }
 ],
 "metadata": {
  "kernelspec": {
   "display_name": "Python 3",
   "language": "python",
   "name": "python3"
  },
  "language_info": {
   "codemirror_mode": {
    "name": "ipython",
    "version": 3
   },
   "file_extension": ".py",
   "mimetype": "text/x-python",
   "name": "python",
   "nbconvert_exporter": "python",
   "pygments_lexer": "ipython3",
   "version": "3.6.1"
  }
 },
 "nbformat": 4,
 "nbformat_minor": 2
}

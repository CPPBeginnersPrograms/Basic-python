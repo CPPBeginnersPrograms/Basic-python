{
 "cells": [
  {
   "cell_type": "code",
   "execution_count": 1,
   "metadata": {
    "collapsed": true
   },
   "outputs": [],
   "source": [
    "#python statements "
   ]
  },
  {
   "cell_type": "code",
   "execution_count": 1,
   "metadata": {
    "collapsed": true
   },
   "outputs": [],
   "source": [
    "# if syntax"
   ]
  },
  {
   "cell_type": "code",
   "execution_count": null,
   "metadata": {
    "collapsed": true
   },
   "outputs": [],
   "source": [
    "#if case1:\n",
    "#    peform action1\n",
    "    \n",
    "#elif case2:\n",
    "#    perform action2\n",
    "\n",
    "#else:\n",
    "#    perform action3\n",
    "    "
   ]
  },
  {
   "cell_type": "code",
   "execution_count": 4,
   "metadata": {},
   "outputs": [
    {
     "name": "stdout",
     "output_type": "stream",
     "text": [
      "It was true\n"
     ]
    }
   ],
   "source": [
    "if True:\n",
    "    print('It was true')"
   ]
  },
  {
   "cell_type": "code",
   "execution_count": 6,
   "metadata": {
    "collapsed": true
   },
   "outputs": [],
   "source": [
    "if False:\n",
    "    print('It was true')"
   ]
  },
  {
   "cell_type": "code",
   "execution_count": 15,
   "metadata": {},
   "outputs": [
    {
     "name": "stdout",
     "output_type": "stream",
     "text": [
      "It was True\n"
     ]
    }
   ],
   "source": [
    "X = True \n",
    "\n",
    "if X:\n",
    "    print('It was True')    \n",
    "else:\n",
    "    print('It was false')"
   ]
  },
  {
   "cell_type": "code",
   "execution_count": 16,
   "metadata": {},
   "outputs": [
    {
     "name": "stdout",
     "output_type": "stream",
     "text": [
      "It was false\n"
     ]
    }
   ],
   "source": [
    "X = False\n",
    "\n",
    "if X:\n",
    "    print('It was True')    \n",
    "else:\n",
    "    print('It was false')"
   ]
  },
  {
   "cell_type": "code",
   "execution_count": 17,
   "metadata": {},
   "outputs": [
    {
     "name": "stdout",
     "output_type": "stream",
     "text": [
      "It was false\n"
     ]
    }
   ],
   "source": [
    "X = True and False\n",
    "\n",
    "if X:\n",
    "    print('It was True')    \n",
    "else:\n",
    "    print('It was false')"
   ]
  },
  {
   "cell_type": "code",
   "execution_count": 18,
   "metadata": {},
   "outputs": [
    {
     "name": "stdout",
     "output_type": "stream",
     "text": [
      "It was True\n"
     ]
    }
   ],
   "source": [
    "X = True or False\n",
    "\n",
    "if X:\n",
    "    print('It was True')    \n",
    "else:\n",
    "    print('It was false')"
   ]
  },
  {
   "cell_type": "code",
   "execution_count": 30,
   "metadata": {},
   "outputs": [
    {
     "name": "stdout",
     "output_type": "stream",
     "text": [
      "it was close\n"
     ]
    }
   ],
   "source": [
    "Macbook = 'broke'\n",
    "Macbook2= 'close'\n",
    "\n",
    "if Macbook2 == 'close':\n",
    "    print('it was close')\n",
    "elif Macbook == 'Open':\n",
    "    print('it is open')\n",
    "elif Macbook == 'broke':\n",
    "    print('it broke')\n",
    "else :\n",
    "    print('no Macbook')\n",
    "    \n"
   ]
  },
  {
   "cell_type": "code",
   "execution_count": 1,
   "metadata": {
    "collapsed": true
   },
   "outputs": [],
   "source": [
    "#for loops \n"
   ]
  },
  {
   "cell_type": "code",
   "execution_count": 5,
   "metadata": {
    "collapsed": true
   },
   "outputs": [],
   "source": [
    "listk = [1,2,3,4,5.5]"
   ]
  },
  {
   "cell_type": "code",
   "execution_count": 6,
   "metadata": {},
   "outputs": [
    {
     "data": {
      "text/plain": [
       "[1, 2, 3, 4, 5.5]"
      ]
     },
     "execution_count": 6,
     "metadata": {},
     "output_type": "execute_result"
    }
   ],
   "source": [
    "listk\n"
   ]
  },
  {
   "cell_type": "code",
   "execution_count": 7,
   "metadata": {},
   "outputs": [
    {
     "name": "stdout",
     "output_type": "stream",
     "text": [
      "something\n",
      "something\n",
      "something\n",
      "something\n",
      "something\n"
     ]
    }
   ],
   "source": [
    "for num in listk:\n",
    "    print('something')"
   ]
  },
  {
   "cell_type": "code",
   "execution_count": 10,
   "metadata": {
    "collapsed": true
   },
   "outputs": [],
   "source": [
    "#modulo "
   ]
  },
  {
   "cell_type": "code",
   "execution_count": 15,
   "metadata": {},
   "outputs": [
    {
     "data": {
      "text/plain": [
       "0"
      ]
     },
     "execution_count": 15,
     "metadata": {},
     "output_type": "execute_result"
    }
   ],
   "source": [
    "4%2"
   ]
  },
  {
   "cell_type": "code",
   "execution_count": 17,
   "metadata": {},
   "outputs": [
    {
     "data": {
      "text/plain": [
       "1"
      ]
     },
     "execution_count": 17,
     "metadata": {},
     "output_type": "execute_result"
    }
   ],
   "source": [
    "13%2"
   ]
  },
  {
   "cell_type": "code",
   "execution_count": 18,
   "metadata": {},
   "outputs": [
    {
     "data": {
      "text/plain": [
       "0"
      ]
     },
     "execution_count": 18,
     "metadata": {},
     "output_type": "execute_result"
    }
   ],
   "source": [
    "21%3"
   ]
  },
  {
   "cell_type": "code",
   "execution_count": 8,
   "metadata": {},
   "outputs": [
    {
     "data": {
      "text/plain": [
       "[1, 2, 3, 4, 5.5]"
      ]
     },
     "execution_count": 8,
     "metadata": {},
     "output_type": "execute_result"
    }
   ],
   "source": [
    "listk"
   ]
  },
  {
   "cell_type": "code",
   "execution_count": 9,
   "metadata": {},
   "outputs": [
    {
     "name": "stdout",
     "output_type": "stream",
     "text": [
      "1\n",
      "it is even number\n",
      "3\n",
      "it is even number\n",
      "it is  a floating num\n"
     ]
    }
   ],
   "source": [
    "for num in listk:\n",
    "    if num%2 == 0:\n",
    "        print('it is even number')\n",
    "    elif num%2 == 1:\n",
    "        print(num)\n",
    "    else:\n",
    "        print('it is  a floating num')"
   ]
  },
  {
   "cell_type": "code",
   "execution_count": 37,
   "metadata": {
    "collapsed": true
   },
   "outputs": [],
   "source": [
    "k = [1,2,3,4,5]"
   ]
  },
  {
   "cell_type": "code",
   "execution_count": 38,
   "metadata": {},
   "outputs": [
    {
     "data": {
      "text/plain": [
       "[1, 2, 3, 4, 5]"
      ]
     },
     "execution_count": 38,
     "metadata": {},
     "output_type": "execute_result"
    }
   ],
   "source": [
    "k"
   ]
  },
  {
   "cell_type": "code",
   "execution_count": 44,
   "metadata": {},
   "outputs": [
    {
     "name": "stdout",
     "output_type": "stream",
     "text": [
      "1\n",
      "3\n",
      "6\n",
      "10\n",
      "15.5\n"
     ]
    }
   ],
   "source": [
    "list_sum = 0\n",
    "\n",
    "\n",
    "for num in listk:\n",
    "    list_sum += num\n",
    "    \n",
    "    print(list_sum)"
   ]
  },
  {
   "cell_type": "code",
   "execution_count": 47,
   "metadata": {},
   "outputs": [
    {
     "name": "stdout",
     "output_type": "stream",
     "text": [
      "t\n",
      "h\n",
      "i\n",
      "s\n",
      " \n",
      "i\n",
      "s\n",
      " \n",
      "a\n",
      " \n",
      "s\n",
      "t\n",
      "r\n",
      "i\n",
      "n\n",
      "g\n"
     ]
    }
   ],
   "source": [
    "p = 'this is a string'\n",
    "\n",
    "\n",
    "for letter in p:\n",
    "    print(letter)"
   ]
  },
  {
   "cell_type": "code",
   "execution_count": 48,
   "metadata": {
    "collapsed": true
   },
   "outputs": [],
   "source": [
    "r =(1,2,3,4)\n"
   ]
  },
  {
   "cell_type": "code",
   "execution_count": 51,
   "metadata": {},
   "outputs": [
    {
     "name": "stdout",
     "output_type": "stream",
     "text": [
      "1\n",
      "2\n",
      "3\n",
      "4\n"
     ]
    }
   ],
   "source": [
    "for t in  r:\n",
    "    print (t)"
   ]
  },
  {
   "cell_type": "code",
   "execution_count": 52,
   "metadata": {
    "collapsed": true
   },
   "outputs": [],
   "source": [
    "list = [(2,3),(6,7),(10,100)]"
   ]
  },
  {
   "cell_type": "code",
   "execution_count": 59,
   "metadata": {},
   "outputs": [
    {
     "name": "stdout",
     "output_type": "stream",
     "text": [
      "(2, 3)\n",
      "(6, 7)\n",
      "(10, 100)\n"
     ]
    }
   ],
   "source": [
    "for t in list:\n",
    "    print(t)"
   ]
  },
  {
   "cell_type": "code",
   "execution_count": 63,
   "metadata": {},
   "outputs": [
    {
     "name": "stdout",
     "output_type": "stream",
     "text": [
      "6\n",
      "42\n",
      "1000\n"
     ]
    }
   ],
   "source": [
    "for (t1,t2) in list:\n",
    "    print(t1*t2)"
   ]
  },
  {
   "cell_type": "code",
   "execution_count": 64,
   "metadata": {
    "collapsed": true
   },
   "outputs": [],
   "source": [
    "d = {'k1' : 1, 'k2': 'jey', 'k3': 3}"
   ]
  },
  {
   "cell_type": "code",
   "execution_count": 65,
   "metadata": {},
   "outputs": [
    {
     "name": "stdout",
     "output_type": "stream",
     "text": [
      "k1\n",
      "k2\n",
      "k3\n"
     ]
    }
   ],
   "source": [
    "for item in d:\n",
    "    print(item)\n",
    "    \n",
    "    #if you are using python 2 use d.iteritems()\n",
    "    # pythoon 3 d.items()"
   ]
  },
  {
   "cell_type": "code",
   "execution_count": 66,
   "metadata": {},
   "outputs": [
    {
     "name": "stdout",
     "output_type": "stream",
     "text": [
      "k1\n",
      "1\n",
      "k2\n",
      "jey\n",
      "k3\n",
      "3\n"
     ]
    }
   ],
   "source": [
    "#to print both items and values in the dictionaries\n",
    "for keys, values in d.items():\n",
    "    print(keys)\n",
    "    print(values)"
   ]
  },
  {
   "cell_type": "code",
   "execution_count": 67,
   "metadata": {
    "collapsed": true
   },
   "outputs": [],
   "source": [
    "list = [1,2,3,4,5,6,7,8,9,10]"
   ]
  },
  {
   "cell_type": "code",
   "execution_count": 68,
   "metadata": {},
   "outputs": [
    {
     "data": {
      "text/plain": [
       "[1, 2, 3, 4, 5, 6, 7, 8, 9, 10]"
      ]
     },
     "execution_count": 68,
     "metadata": {},
     "output_type": "execute_result"
    }
   ],
   "source": [
    "list"
   ]
  },
  {
   "cell_type": "code",
   "execution_count": 101,
   "metadata": {},
   "outputs": [
    {
     "name": "stdout",
     "output_type": "stream",
     "text": [
      "1 number is a prime\n",
      "2 number is a prime\n",
      "3 number is a prime\n",
      "4 equals 2*2\n",
      "5 number is a prime\n",
      "6 equals 2*3\n",
      "7 number is a prime\n",
      "8 equals 2*4\n",
      "9 equals 3*3\n",
      "10 equals 2*5\n"
     ]
    }
   ],
   "source": [
    "#second for statement confusion \n",
    "for num in list:\n",
    "   for i in range(2,num):\n",
    "      if num%i == 0:\n",
    "         j=num/i\n",
    "         print('%d equals %d*%d' %(num,i,j))\n",
    "         break \n",
    "   else:\n",
    "    print(num,'number is a prime')\n",
    "    "
   ]
  },
  {
   "cell_type": "code",
   "execution_count": 102,
   "metadata": {
    "collapsed": true
   },
   "outputs": [],
   "source": [
    "#while loops "
   ]
  },
  {
   "cell_type": "code",
   "execution_count": 1,
   "metadata": {},
   "outputs": [
    {
     "name": "stdout",
     "output_type": "stream",
     "text": [
      "x is currently: 0\n",
      "x is currently: 1\n",
      "x is currently: 2\n",
      "x is currently: 3\n",
      "x is currently: 4\n",
      "x is currently: 5\n",
      "x is currently: 6\n",
      "x is currently: 7\n",
      "x is currently: 8\n",
      "x is currently: 9\n"
     ]
    }
   ],
   "source": [
    "x = 0\n",
    "\n",
    "while x < 10:\n",
    "    print('x is currently:',x)\n",
    "    x += 1"
   ]
  },
  {
   "cell_type": "code",
   "execution_count": 6,
   "metadata": {},
   "outputs": [
    {
     "name": "stdout",
     "output_type": "stream",
     "text": [
      "x is currently 0\n",
      "x is currently 1\n",
      "x is currently 2\n",
      "x is currently 3\n",
      "all done!\n"
     ]
    }
   ],
   "source": [
    "x = 0\n",
    "\n",
    "while x < 4:\n",
    "    print ('x is currently', x)\n",
    "    x += 1\n",
    "else : \n",
    "    print ('all done!')"
   ]
  },
  {
   "cell_type": "code",
   "execution_count": 7,
   "metadata": {
    "collapsed": true
   },
   "outputs": [],
   "source": [
    "#break continue and pass"
   ]
  },
  {
   "cell_type": "code",
   "execution_count": 8,
   "metadata": {},
   "outputs": [
    {
     "name": "stdout",
     "output_type": "stream",
     "text": [
      "x is currently :  0\n",
      "x is still less than 10, adding 1 to x\n",
      "continuing......\n",
      "x is currently :  1\n",
      "x is still less than 10, adding 1 to x\n",
      "continuing......\n",
      "x is currently :  2\n",
      "x is still less than 10, adding 1 to x\n",
      "x equals 3\n",
      "x is currently :  3\n",
      "x is still less than 10, adding 1 to x\n",
      "continuing......\n",
      "x is currently :  4\n",
      "x is still less than 10, adding 1 to x\n",
      "continuing......\n",
      "x is currently :  5\n",
      "x is still less than 10, adding 1 to x\n",
      "continuing......\n",
      "x is currently :  6\n",
      "x is still less than 10, adding 1 to x\n",
      "continuing......\n",
      "x is currently :  7\n",
      "x is still less than 10, adding 1 to x\n",
      "continuing......\n",
      "x is currently :  8\n",
      "x is still less than 10, adding 1 to x\n",
      "continuing......\n",
      "x is currently :  9\n",
      "x is still less than 10, adding 1 to x\n",
      "continuing......\n"
     ]
    }
   ],
   "source": [
    "x = 0 \n",
    "\n",
    "while x < 10:\n",
    "    print ('x is currently : ', x)\n",
    "    print ('x is still less than 10, adding 1 to x')\n",
    "    x += 1\n",
    "    \n",
    "    if x==3:\n",
    "        print('x equals 3')\n",
    "        \n",
    "    else:\n",
    "        print ('continuing......')\n",
    "        continue"
   ]
  },
  {
   "cell_type": "code",
   "execution_count": 12,
   "metadata": {},
   "outputs": [
    {
     "name": "stdout",
     "output_type": "stream",
     "text": [
      "x is currently :  0\n",
      "x is still less than 10, adding 1 to x\n",
      "continuing......\n",
      "x is currently :  1\n",
      "x is still less than 10, adding 1 to x\n",
      "continuing......\n",
      "x is currently :  2\n",
      "x is still less than 10, adding 1 to x\n",
      "continuing......\n",
      "x is currently :  3\n",
      "x is still less than 10, adding 1 to x\n",
      "continuing......\n",
      "x is currently :  4\n",
      "x is still less than 10, adding 1 to x\n",
      "x equals 5\n"
     ]
    }
   ],
   "source": [
    "x = 0 \n",
    "\n",
    "while x < 10:\n",
    "    print ('x is currently : ', x)\n",
    "    print ('x is still less than 10, adding 1 to x')\n",
    "    x += 1\n",
    "    \n",
    "    if x==5:\n",
    "        print('x equals 5')\n",
    "        break\n",
    "    else:\n",
    "        print ('continuing......')\n",
    "        continue"
   ]
  },
  {
   "cell_type": "code",
   "execution_count": null,
   "metadata": {
    "collapsed": true
   },
   "outputs": [],
   "source": []
  },
  {
   "cell_type": "code",
   "execution_count": null,
   "metadata": {
    "collapsed": true
   },
   "outputs": [],
   "source": []
  },
  {
   "cell_type": "code",
   "execution_count": null,
   "metadata": {
    "collapsed": true
   },
   "outputs": [],
   "source": []
  }
 ],
 "metadata": {
  "kernelspec": {
   "display_name": "Python 3",
   "language": "python",
   "name": "python3"
  },
  "language_info": {
   "codemirror_mode": {
    "name": "ipython",
    "version": 3
   },
   "file_extension": ".py",
   "mimetype": "text/x-python",
   "name": "python",
   "nbconvert_exporter": "python",
   "pygments_lexer": "ipython3",
   "version": "3.6.1"
  }
 },
 "nbformat": 4,
 "nbformat_minor": 2
}

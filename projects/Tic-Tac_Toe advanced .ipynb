{
 "cells": [
  {
   "cell_type": "code",
   "execution_count": 1,
   "metadata": {
    "collapsed": true
   },
   "outputs": [],
   "source": [
    "from IPython.display import clear_output\n",
    "\n",
    "#global variables\n",
    "\n",
    "board = [' ']*10\n",
    "game_state = True\n",
    "announce = ''"
   ]
  },
  {
   "cell_type": "code",
   "execution_count": 2,
   "metadata": {
    "collapsed": true
   },
   "outputs": [],
   "source": [
    "def board_reset():\n",
    "    \n",
    "    global board,game_state\n",
    "    board = [' ']*10\n",
    "    game_state = True"
   ]
  },
  {
   "cell_type": "code",
   "execution_count": 3,
   "metadata": {
    "collapsed": true
   },
   "outputs": [],
   "source": [
    "def board_display():\n",
    "    \n",
    "    \"\"\"\n",
    "    this function is to print board for tic-tac\n",
    "    \n",
    "    \"\"\"\n",
    "    #clear the previous output\n",
    "    clear_output()\n",
    "    #prints the board layout\n",
    "    print('   |   |  ')\n",
    "    print(''  +board[7], ' | '  +board[8], '| '  +board[9])\n",
    "    print('   |   |  ')\n",
    "    print('------------')\n",
    "    print('   |   |  ')\n",
    "    print(''  +board[4], ' | '  +board[5], '| '  +board[6])\n",
    "    print('   |   |  ')\n",
    "    print('------------')\n",
    "    print('   |   |  ')\n",
    "    print(''  +board[1], ' | '  +board[2], '| '  +board[3])\n",
    "    print('   |   |  ')"
   ]
  },
  {
   "cell_type": "code",
   "execution_count": 4,
   "metadata": {
    "collapsed": true
   },
   "outputs": [],
   "source": [
    "def check_win(board, player):\n",
    "    '''checks horizontal,vertical and diagnols to win'''\n",
    "    if (board[7]  ==  board[8] ==  board[9] == player) or \\\n",
    "        (board[4] ==  board[5] ==  board[6] == player) or \\\n",
    "        (board[1] ==  board[2] ==  board[3] == player) or \\\n",
    "        (board[7] ==  board[4] ==  board[1] == player) or \\\n",
    "        (board[8] ==  board[5] ==  board[2] == player) or \\\n",
    "        (board[9] ==  board[6] ==  board[3] == player) or \\\n",
    "        (board[1] ==  board[5] ==  board[9] == player) or \\\n",
    "        (board[3] ==  board[5] ==  board[7] == player):\n",
    "        return True\n",
    "    else:\n",
    "        return False\n",
    "\n"
   ]
  },
  {
   "cell_type": "code",
   "execution_count": 5,
   "metadata": {
    "collapsed": true
   },
   "outputs": [],
   "source": [
    "def check_fullboard(board):\n",
    "    '''this function is to check the board is full if it is a tie'''\n",
    "    if \" \" in board[1:]:\n",
    "        return False\n",
    "    else:\n",
    "        return True"
   ]
  },
  {
   "cell_type": "code",
   "execution_count": 6,
   "metadata": {
    "collapsed": true
   },
   "outputs": [],
   "source": [
    "def ask_player(mark):\n",
    "    ''' Asks player where to place X or O mark, checks validity '''\n",
    "    global board\n",
    "    req = 'Choose where to place your: ' + mark\n",
    "    while True:\n",
    "        try:\n",
    "            choice = int(input(req))\n",
    "        except ValueError:\n",
    "            print(\"Sorry, please input a number between 1-9.\")\n",
    "            continue\n",
    "\n",
    "        if choice not in range(1,10):\n",
    "            print(\"Sorry, please input a number between 1-9.\")\n",
    "            continue\n",
    "\n",
    "        if board[choice] == \" \":\n",
    "            board[choice] = mark\n",
    "            break\n",
    "        else:\n",
    "            print (\"That space isn't empty!\")\n",
    "            continue\n",
    "            "
   ]
  },
  {
   "cell_type": "code",
   "execution_count": 11,
   "metadata": {
    "collapsed": true
   },
   "outputs": [],
   "source": [
    "def players_choice(mark):\n",
    "    global board,game_state,announce\n",
    "    #Set blank game announcement\n",
    "    announce = ''\n",
    "    #Get Player Input\n",
    "    mark = str(mark)\n",
    "    # Validate input\n",
    "    ask_player(mark)\n",
    "\n",
    "    #Check for player win\n",
    "    if check_win(board,mark):\n",
    "        clear_output()\n",
    "        board_display()\n",
    "        announce = mark +\" wins! Congratulations\"\n",
    "        game_state = False\n",
    "    \n",
    "    #Show board\n",
    "    clear_output()\n",
    "    board_display()\n",
    "\n",
    "    #Check for a tie \n",
    "    if check_fullboard(board):\n",
    "        announce = \"Tie!\"\n",
    "        game_state = False\n",
    "        \n",
    "    return game_state,announce"
   ]
  },
  {
   "cell_type": "code",
   "execution_count": 8,
   "metadata": {
    "collapsed": true
   },
   "outputs": [],
   "source": [
    "def play_game():\n",
    "    board_reset()\n",
    "    global announce\n",
    "    \n",
    "    # Set marks\n",
    "    X='X'\n",
    "    O='O'\n",
    "    while True:\n",
    "        # Show board\n",
    "        clear_output()\n",
    "        board_display()\n",
    "        \n",
    "        # Player X turn\n",
    "        game_state,announce = players_choice(X)\n",
    "        print(announce)\n",
    "        if game_state == False:\n",
    "            break\n",
    "            \n",
    "        # Player O turn\n",
    "        game_state,announce = players_choice(O)\n",
    "        print(announce)\n",
    "        if game_state == False:\n",
    "            break\n",
    "    \n",
    "    # Ask player for a rematch\n",
    "    rematch = input('Would you like to play again? y/n')\n",
    "    if rematch == 'y':\n",
    "        play_game()\n",
    "    else:\n",
    "        print (\"Thanks for playing!\")\n"
   ]
  },
  {
   "cell_type": "code",
   "execution_count": 12,
   "metadata": {},
   "outputs": [
    {
     "name": "stdout",
     "output_type": "stream",
     "text": [
      "   |   |  \n",
      "O  | X | X\n",
      "   |   |  \n",
      "------------\n",
      "   |   |  \n",
      "O  | X | O\n",
      "   |   |  \n",
      "------------\n",
      "   |   |  \n",
      "X  | O | X\n",
      "   |   |  \n",
      "Tie!\n",
      "Would you like to play again? y/nn\n",
      "Thanks for playing!\n"
     ]
    }
   ],
   "source": [
    "play_game()"
   ]
  },
  {
   "cell_type": "code",
   "execution_count": null,
   "metadata": {
    "collapsed": true
   },
   "outputs": [],
   "source": []
  }
 ],
 "metadata": {
  "kernelspec": {
   "display_name": "Python 3",
   "language": "python",
   "name": "python3"
  },
  "language_info": {
   "codemirror_mode": {
    "name": "ipython",
    "version": 3
   },
   "file_extension": ".py",
   "mimetype": "text/x-python",
   "name": "python",
   "nbconvert_exporter": "python",
   "pygments_lexer": "ipython3",
   "version": "3.6.1"
  }
 },
 "nbformat": 4,
 "nbformat_minor": 2
}
